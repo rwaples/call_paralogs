{
 "cells": [
  {
   "cell_type": "code",
   "execution_count": 4,
   "metadata": {
    "collapsed": true
   },
   "outputs": [],
   "source": [
    "import itertools\n",
    "import numpy as np\n",
    "from scipy.stats import chisqprob"
   ]
  },
  {
   "cell_type": "code",
   "execution_count": 5,
   "metadata": {
    "collapsed": true
   },
   "outputs": [],
   "source": [
    "def possible_genotypes(n_alleles, ploidy, alleles = 'ACGT'):\n",
    "    assert n_alleles <= 4\n",
    "    #assert ploidy <= 4\n",
    "    return list(itertools.combinations_with_replacement(alleles[:n_alleles], ploidy))"
   ]
  },
  {
   "cell_type": "code",
   "execution_count": 6,
   "metadata": {
    "collapsed": false
   },
   "outputs": [
    {
     "data": {
      "text/plain": [
       "[('A', 'A', 'A', 'A'),\n",
       " ('A', 'A', 'A', 'C'),\n",
       " ('A', 'A', 'C', 'C'),\n",
       " ('A', 'C', 'C', 'C'),\n",
       " ('C', 'C', 'C', 'C')]"
      ]
     },
     "execution_count": 6,
     "metadata": {},
     "output_type": "execute_result"
    }
   ],
   "source": [
    "possible_genotypes(n_alleles = 2, ploidy = 4)"
   ]
  },
  {
   "cell_type": "code",
   "execution_count": 13,
   "metadata": {
    "collapsed": false
   },
   "outputs": [],
   "source": [
    "def get_loglikelihood(genotype, depths, epsilon = .01, alleles = 'ACGT'):\n",
    "    \"\"\"given read depths, a genotype, and error rate, returns the loglikelihood of the read data\"\"\"\n",
    "    # epsilon is the chance the call is *wrong*\n",
    "    # depths is a list of allele depths, in order of alleles\n",
    "    # genotype is a single genotype, as made with possible_genotypes \n",
    "    ploidy = len(genotype)\n",
    "    assert len(depths) == ploidy\n",
    "    assert len(alleles) == ploidy\n",
    "    \n",
    "    relative_dosages = [] # the fraction of the total ploidy that is each allele\n",
    "    for allele in alleles:\n",
    "        relative_dosages.append(genotype.count(allele)/np.float(ploidy))\n",
    "        \n",
    "    #adjust relative dosages for epsilon\n",
    "    read_chances = []\n",
    "    for relative_dosage in relative_dosages:\n",
    "        # 1-epsilon give the chance for error away, 1-rel_dosage*epsilon gives chance of error to\n",
    "        read_chances.append(relative_dosage*(1-epsilon) + (1-relative_dosage)*epsilon)\n",
    "    \n",
    "    likelihood = np.log(1.0)\n",
    "    # this is missing a constant term of the (multinomial) likelihood\n",
    "    for depth, allele, relative_dosage in zip(depths, alleles, read_chances):\n",
    "        likelihood += np.log(relative_dosage**depth)\n",
    "    return(np.log(likelihood))"
   ]
  },
  {
   "cell_type": "code",
   "execution_count": 14,
   "metadata": {
    "collapsed": false
   },
   "outputs": [
    {
     "name": "stderr",
     "output_type": "stream",
     "text": [
      "C:\\Users\\Ryan\\Anaconda\\lib\\site-packages\\ipykernel\\__main__.py:24: RuntimeWarning: invalid value encountered in log\n"
     ]
    },
    {
     "data": {
      "text/plain": [
       "nan"
      ]
     },
     "execution_count": 14,
     "metadata": {},
     "output_type": "execute_result"
    }
   ],
   "source": [
    "get_loglikelihood(genotype = ('A', 'A', 'G', 'C'), depths = [15, 5, 3, 0])\n",
    "get_loglikelihood(genotype = ('A', 'A', 'G', 'C'), depths = [15, 5, 0, 0])\n",
    "get_loglikelihood(genotype = ('A', 'A', 'G', 'C'), depths = [15, 5, 3, 1])"
   ]
  },
  {
   "cell_type": "markdown",
   "metadata": {},
   "source": [
    "# dict of genotype keys, likelihood values"
   ]
  },
  {
   "cell_type": "code",
   "execution_count": 9,
   "metadata": {
    "collapsed": false
   },
   "outputs": [],
   "source": [
    "def make_likelihood_dict(my_depths, genotypes):\n",
    "    like_of_geno = dict()\n",
    "    for x in genotypes:\n",
    "        like_of_geno[x] = get_loglikelihood(genotype = x, depths = my_depths)\n",
    "    return(like_of_geno)"
   ]
  },
  {
   "cell_type": "code",
   "execution_count": 10,
   "metadata": {
    "collapsed": false
   },
   "outputs": [
    {
     "name": "stderr",
     "output_type": "stream",
     "text": [
      "C:\\Users\\Ryan\\Anaconda\\lib\\site-packages\\ipykernel\\__main__.py:24: RuntimeWarning: divide by zero encountered in log\n"
     ]
    }
   ],
   "source": [
    "like_of_geno = make_likelihood_dict(my_depths = [75, 75, 75, 0], genotypes = possible_genotypes(n_alleles=4, ploidy = 4))"
   ]
  },
  {
   "cell_type": "markdown",
   "metadata": {},
   "source": [
    "# Function to see which genotypes are closest to being called"
   ]
  },
  {
   "cell_type": "code",
   "execution_count": 9,
   "metadata": {
    "collapsed": false
   },
   "outputs": [],
   "source": [
    "def get_likely_genotypes(like_of_geno, tolerance = 10):\n",
    "    \"\"\"returns all genotypes within the tolerance of the best\"\"\"\n",
    "    best_geno = max(like_of_geno, key=lambda key: like_of_geno[key])\n",
    "    best_like = like_of_geno[best_geno]\n",
    "    like_threshold = best_like - tolerance\n",
    "    likely_genotypes = [(key, val) for key, val in like_of_geno.iteritems() if val > like_threshold]\n",
    "    likely_genotypes.sort(key=lambda x: x[1], reverse = True) # sort by likelihoods\n",
    "    return likely_genotypes "
   ]
  },
  {
   "cell_type": "code",
   "execution_count": 10,
   "metadata": {
    "collapsed": false
   },
   "outputs": [
    {
     "data": {
      "text/plain": [
       "[(('A', 'A', 'C', 'G'), -25.934311764976957),\n",
       " (('A', 'A', 'A', 'C'), -29.668705322109584),\n",
       " (('A', 'A', 'C', 'C'), -32.283624355151268),\n",
       " (('A', 'A', 'C', 'T'), -32.411668669305719),\n",
       " (('A', 'C', 'C', 'G'), -32.667757297614614),\n",
       " (('A', 'C', 'G', 'T'), -32.795801611769065),\n",
       " (('A', 'C', 'G', 'G'), -34.014446404142149)]"
      ]
     },
     "execution_count": 10,
     "metadata": {},
     "output_type": "execute_result"
    }
   ],
   "source": [
    "get_likely_genotypes(like_of_geno)"
   ]
  },
  {
   "cell_type": "markdown",
   "metadata": {},
   "source": [
    "# Use a likelihood ratio test to test if the difference between the best two genotypes is significant"
   ]
  },
  {
   "cell_type": "code",
   "execution_count": 13,
   "metadata": {
    "collapsed": false
   },
   "outputs": [],
   "source": [
    "def likelihood_ratio(llmax, llmin):\n",
    "    return(2*(llmax-llmin))\n",
    "\n",
    "def likelihood_ratio_test(like_of_geno):\n",
    "    \"uses a likelihood ratio test to determine the support for the 'best' genotype\"\n",
    "    _geno_likes = [(key, val) for key, val in like_of_geno.iteritems()]\n",
    "    _geno_likes.sort(key=lambda x: x[1], reverse = True)\n",
    "    best, second = _geno_likes[:2]\n",
    "    LR = likelihood_ratio(best[1], second[1])\n",
    "    p = chisqprob(LR, 1)\n",
    "    return(p, best, second)"
   ]
  },
  {
   "cell_type": "code",
   "execution_count": 14,
   "metadata": {
    "collapsed": false
   },
   "outputs": [
    {
     "data": {
      "text/plain": [
       "(0.0062777830845210112,\n",
       " (('A', 'A', 'C', 'G'), -25.934311764976957),\n",
       " (('A', 'A', 'A', 'C'), -29.668705322109584))"
      ]
     },
     "execution_count": 14,
     "metadata": {},
     "output_type": "execute_result"
    }
   ],
   "source": [
    "likelihood_ratio_test(like_of_geno)"
   ]
  },
  {
   "cell_type": "code",
   "execution_count": null,
   "metadata": {
    "collapsed": true
   },
   "outputs": [],
   "source": []
  }
 ],
 "metadata": {
  "kernelspec": {
   "display_name": "Python 2",
   "language": "python",
   "name": "python2"
  },
  "language_info": {
   "codemirror_mode": {
    "name": "ipython",
    "version": 2
   },
   "file_extension": ".py",
   "mimetype": "text/x-python",
   "name": "python",
   "nbconvert_exporter": "python",
   "pygments_lexer": "ipython2",
   "version": "2.7.11"
  }
 },
 "nbformat": 4,
 "nbformat_minor": 0
}
